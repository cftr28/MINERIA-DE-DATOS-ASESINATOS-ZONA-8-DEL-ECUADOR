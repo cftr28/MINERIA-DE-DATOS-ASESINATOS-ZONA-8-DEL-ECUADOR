{
  "nbformat": 4,
  "nbformat_minor": 0,
  "metadata": {
    "colab": {
      "provenance": []
    },
    "kernelspec": {
      "name": "python3",
      "display_name": "Python 3"
    },
    "language_info": {
      "name": "python"
    }
  },
  "cells": [
    {
      "cell_type": "code",
      "execution_count": null,
      "metadata": {
        "colab": {
          "base_uri": "https://localhost:8080/"
        },
        "id": "tUwg4h14Imas",
        "outputId": "e0844761-ebeb-42b5-fb2e-b1dfe7ebeb49"
      },
      "outputs": [
        {
          "output_type": "stream",
          "name": "stdout",
          "text": [
            "Dataset creado y guardado como dataset_con_nuevos_datos.csv\n"
          ]
        }
      ],
      "source": [
        "import numpy as np\n",
        "import pandas as pd\n",
        "\n",
        "# Configuración de las clases para cada variable\n",
        "n_registros = 10000\n",
        "\n",
        "classes = {\n",
        "    \"DIA\": [1, 2, 3, 4],\n",
        "    \"HORA_INFRACCION\": [0, 1, 2, 3],\n",
        "    \"ARMA\": [1, 2, 3, 4, 5],\n",
        "    \"EDAD\": [1, 2, 3, 4],\n",
        "    \"LUGAR\": [1, 2],\n",
        "    \"SEXO\": [1, 2],\n",
        "    \"ANTECEDENTES\": [1, 2],\n",
        "    \"AREA_DEL_HECHO\": [1, 2],\n",
        "    \"DISTRITO\": [1, 2, 3],\n",
        "    \"PRESUNTA_MOTIVACION\": [1, 2, 3, 4, 5, 6]\n",
        "}\n",
        "\n",
        "# Crear un dataset balanceado\n",
        "# Se asegura que cada clase esté representada de forma uniforme\n",
        "columnas = list(classes.keys())\n",
        "data = []\n",
        "\n",
        "# Generar los datos balanceados\n",
        "for columna in columnas:\n",
        "    valores = classes[columna]\n",
        "    repeticiones = n_registros // len(valores)\n",
        "    extras = n_registros % len(valores)\n",
        "    data_columna = valores * repeticiones + valores[:extras]\n",
        "    np.random.shuffle(data_columna)\n",
        "    data.append(data_columna)\n",
        "\n",
        "# Transponer los datos para formar las filas\n",
        "data = np.array(data).T\n",
        "\n",
        "# Crear un DataFrame\n",
        "df = pd.DataFrame(data, columns=columnas)\n",
        "\n",
        "# Guardar el archivo CSV\n",
        "nombre_archivo = \"dataset_con_nuevos_datos.csv\"\n",
        "header = [\"DIA\", \"HORA_INFRACCION\", \"ARMA\", \"EDAD\", \"LUGAR\", \"SEXO\", \"ANTECEDENTES\", \"AREA_DEL_HECHO\", \"DISTRITO\", \"PRESUNTA_MOTIVACION\"]\n",
        "\n",
        "# Incluir encabezado en la primera fila y datos en las demás\n",
        "with open(nombre_archivo, \"w\") as f:\n",
        "    f.write(\",\".join(header) + \"\\n\")\n",
        "    df.to_csv(f, index=False, header=False)\n",
        "\n",
        "print(f\"Dataset creado y guardado como {nombre_archivo}\")\n"
      ]
    }
  ]
}