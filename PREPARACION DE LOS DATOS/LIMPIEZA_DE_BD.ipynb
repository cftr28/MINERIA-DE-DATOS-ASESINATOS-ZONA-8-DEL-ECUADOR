{
  "cells": [
    {
      "cell_type": "code",
      "source": [
        "from google.colab import drive\n",
        "drive.mount('/content/drive')\n"
      ],
      "metadata": {
        "colab": {
          "base_uri": "https://localhost:8080/"
        },
        "id": "A3GgYw9j_yln",
        "outputId": "98584251-13fe-4747-e3fe-be4291af7d74"
      },
      "id": "A3GgYw9j_yln",
      "execution_count": null,
      "outputs": [
        {
          "output_type": "stream",
          "name": "stdout",
          "text": [
            "Drive already mounted at /content/drive; to attempt to forcibly remount, call drive.mount(\"/content/drive\", force_remount=True).\n"
          ]
        }
      ]
    },
    {
      "cell_type": "code",
      "source": [
        "import pandas as pd\n",
        "\n",
        "# Especifica la ruta al archivo en Google Drive\n",
        "file_path = '/content/drive/My Drive/ASESINATOS_ 10 VARIABLES.csv'\n",
        "\n",
        "# Cargar el archivo CSV en un DataFrame\n",
        "df = pd.read_csv(file_path)\n",
        "\n",
        "# Verificar las primeras filas para entender la estructura del DataFrame\n",
        "print(\"Primeras filas del DataFrame:\")\n",
        "print(df.head())\n"
      ],
      "metadata": {
        "colab": {
          "base_uri": "https://localhost:8080/"
        },
        "id": "VVJ9w06G_4yi",
        "outputId": "fe616cda-f300-4443-a0f6-4570aecb781d"
      },
      "id": "VVJ9w06G_4yi",
      "execution_count": null,
      "outputs": [
        {
          "output_type": "stream",
          "name": "stdout",
          "text": [
            "Primeras filas del DataFrame:\n",
            "  AREA_DEL_HECHO             LUGAR        DIA HORA_INFRACCION           ARMA  \\\n",
            "0         URBANO       VIA PUBLICA     JUEVES             H01  ARMA DE FUEGO   \n",
            "1          RURAL       VIA PUBLICA     JUEVES             H16    ARMA BLANCA   \n",
            "2         URBANO  LUGARES PRIVADOS    VIERNES             H01    ARMA BLANCA   \n",
            "3          RURAL       VIA PUBLICA  MIERCOLES             H17  ARMA DE FUEGO   \n",
            "4         URBANO       VIA PUBLICA      LUNES             H23  ARMA DE FUEGO   \n",
            "\n",
            "   EDAD    SEXO ANTECEDENTES          DISTRITO    PRESUNTA_MOTIVACION  \n",
            "0    19  HOMBRE     SIN_DATO           PORTETE  VIOLENCIA COMUNITARIA  \n",
            "1    28  HOMBRE     SIN_DATO  NUEVA PROSPERINA     DELINCUENCIA COMUN  \n",
            "2    35  HOMBRE     SIN_DATO  NUEVA PROSPERINA     DELINCUENCIA COMUN  \n",
            "3    58  HOMBRE     SIN_DATO          PROGRESO  VIOLENCIA COMUNITARIA  \n",
            "4    27  HOMBRE     SIN_DATO               SUR     DELINCUENCIA COMUN  \n"
          ]
        }
      ]
    },
    {
      "cell_type": "code",
      "source": [
        "# Obtener el número de registros (filas) en el DataFrame\n",
        "num_registros = df.shape[0]\n",
        "\n",
        "print(f\"El número de registros en el DataFrame es: {num_registros}\")\n"
      ],
      "metadata": {
        "id": "-iJCTxi_GnEz",
        "outputId": "675afa11-9e88-4a0b-def8-01c87b1d1898",
        "colab": {
          "base_uri": "https://localhost:8080/"
        }
      },
      "id": "-iJCTxi_GnEz",
      "execution_count": null,
      "outputs": [
        {
          "output_type": "stream",
          "name": "stdout",
          "text": [
            "El número de registros en el DataFrame es: 6920\n"
          ]
        }
      ]
    },
    {
      "cell_type": "code",
      "source": [
        "import pandas as pd\n",
        "\n",
        "# Asegurarse de que los valores de SEXO no tengan espacios ni diferencias en mayúsculas/minúsculas\n",
        "df['SEXO'] = df['SEXO'].str.strip().str.upper()\n",
        "\n",
        "# Verificar la moda de la columna SEXO\n",
        "moda_sexo = df[df['SEXO'] != 'SIN_DATO']['SEXO'].mode()[0]\n",
        "print(f\"La moda de la columna SEXO es: {moda_sexo}\")\n",
        "\n",
        "# Reemplazar solo los registros que contienen \"SIN_DATO\" con la moda\n",
        "df.loc[df['SEXO'] == 'SIN_DATO', 'SEXO'] = moda_sexo\n",
        "\n",
        "# Contar el número de registros que contienen 'SIN_DATO' en la columna SEXO después del reemplazo\n",
        "num_sin_dato_sexo = df[df['SEXO'] == 'SIN_DATO'].shape[0]\n",
        "\n",
        "# Mostrar el número de registros que aún contienen 'SIN_DATO'\n",
        "print(f\"Número de registros que contienen 'SIN_DATO' en la columna SEXO después del reemplazo: {num_sin_dato_sexo}\")\n",
        "\n",
        "# Ver los valores únicos de la columna SEXO para asegurar que no haya variaciones de \"SIN_DATO\"\n",
        "print(\"Valores únicos en la columna SEXO:\")\n",
        "print(df['SEXO'].unique())\n",
        "\n",
        "# Guardar el DataFrame limpio en un nuevo archivo CSV\n",
        "df.to_csv('ASESINATOS_CORRECTO.csv', index=False)  # Esto sobreescribe el archivo original\n",
        "\n"
      ],
      "metadata": {
        "colab": {
          "base_uri": "https://localhost:8080/"
        },
        "id": "c8J8mYDuGK9W",
        "outputId": "0bfb65c0-58f7-4696-c441-a2777606c60f"
      },
      "id": "c8J8mYDuGK9W",
      "execution_count": null,
      "outputs": [
        {
          "output_type": "stream",
          "name": "stdout",
          "text": [
            "La moda de la columna SEXO es: HOMBRE\n",
            "Número de registros que contienen 'SIN_DATO' en la columna SEXO después del reemplazo: 0\n",
            "Valores únicos en la columna SEXO:\n",
            "['HOMBRE' 'MUJER']\n"
          ]
        }
      ]
    },
    {
      "cell_type": "code",
      "source": [
        "import pandas as pd\n",
        "\n",
        "# Asegurarse de que los valores de ANTECEDENTES no tengan espacios ni diferencias en mayúsculas/minúsculas\n",
        "df['ANTECEDENTES'] = df['ANTECEDENTES'].str.strip().str.upper()\n",
        "\n",
        "# Verificar la moda de la columna ANTECEDENTES\n",
        "moda_antecedentes = df[df['ANTECEDENTES'] != 'SIN_DATO']['ANTECEDENTES'].mode()[0]\n",
        "print(f\"La moda de la columna ANTECEDENTES es: {moda_antecedentes}\")\n",
        "\n",
        "# Reemplazar solo los registros que contienen \"SIN_DATO\" con la moda\n",
        "df.loc[df['ANTECEDENTES'] == 'SIN_DATO', 'ANTECEDENTES'] = moda_antecedentes\n",
        "\n",
        "# Contar el número de registros que contienen 'SIN_DATO' en la columna ANTECEDENTES después del reemplazo\n",
        "num_sin_dato_antecedentes = df[df['ANTECEDENTES'] == 'SIN_DATO'].shape[0]\n",
        "\n",
        "# Mostrar el número de registros que aún contienen 'SIN_DATO'\n",
        "print(f\"Número de registros que contienen 'SIN_DATO' en la columna ANTECEDENTES después del reemplazo: {num_sin_dato_antecedentes}\")\n",
        "\n",
        "\n",
        "# Ver los valores únicos de la columna ANTECEDENTES para asegurar que no haya variaciones de \"SIN_DATO\"\n",
        "print(\"Valores únicos en la columna ANTECEDENTES:\")\n",
        "print(df['ANTECEDENTES'].unique())\n",
        "\n",
        "df.to_csv('ASESINATOS_CORRECTO.csv', index=False)  # Esto sobreescribe el archivo original"
      ],
      "metadata": {
        "colab": {
          "base_uri": "https://localhost:8080/"
        },
        "id": "cNNt9BeWGiGF",
        "outputId": "52c54a0e-77b3-4948-a86c-2732695f5c09"
      },
      "id": "cNNt9BeWGiGF",
      "execution_count": null,
      "outputs": [
        {
          "output_type": "stream",
          "name": "stdout",
          "text": [
            "La moda de la columna ANTECEDENTES es: SI\n",
            "Número de registros que contienen 'SIN_DATO' en la columna ANTECEDENTES después del reemplazo: 0\n",
            "Valores únicos en la columna ANTECEDENTES:\n",
            "['SI' 'NO']\n"
          ]
        }
      ]
    },
    {
      "cell_type": "code",
      "source": [
        "moda_edad = df[df['EDAD'] != 0]['EDAD'].mode()[0]\n",
        "print(f\"La moda de la columna EDAD es: {moda_edad}\")\n",
        "\n",
        "# Reemplazar los valores 0 en la columna EDAD con la moda\n",
        "df.loc[df['EDAD'] == 0, 'EDAD'] = moda_edad\n",
        "\n",
        "# Verificar la cantidad de registros que contenían 0 en EDAD\n",
        "num_ceros_edad = df[df['EDAD'] == 0].shape[0]\n",
        "print(f\"Número de registros que contenían 0 en la columna EDAD después del reemplazo: {num_ceros_edad}\")\n",
        "\n",
        "# Ver los valores únicos de la columna TIPO_ARMA para asegurar que no haya variaciones de \"SIN_DATO\"\n",
        "print(\"Valores únicos en la columna TIPO_ARMA:\")\n",
        "print(df['EDAD'].unique())\n",
        "\n",
        "# Guardar el DataFrame limpio en un nuevo archivo CSV\n",
        "df.to_csv('ASESINATOS_CORRECTO.csv', index=False)  # Esto sobreescribe el archivo original\n",
        "\n"
      ],
      "metadata": {
        "colab": {
          "base_uri": "https://localhost:8080/"
        },
        "id": "A5M9cFYEJWKb",
        "outputId": "ada6ad29-2eaa-41bf-caec-d509aa79488c"
      },
      "id": "A5M9cFYEJWKb",
      "execution_count": null,
      "outputs": [
        {
          "output_type": "stream",
          "name": "stdout",
          "text": [
            "La moda de la columna EDAD es: 30\n",
            "Número de registros que contenían 0 en la columna EDAD después del reemplazo: 0\n",
            "Valores únicos en la columna TIPO_ARMA:\n",
            "[19 28 35 58 27 24 20 34 22 18 26 30 29 33 21 39 47 25 23 51 37 40 32 78\n",
            " 49 41 43 46 69 36 45 42 14 17 16 60 55 38 59 44 54 50 65  7 31 52 67 48\n",
            " 79 72 82  5 57 15  8 56 68  3  4 10 12 87 61 62 64 63 81 53 76 70  1 80\n",
            " 66 73 86  6  2 74 71 13 11  9 95 94 89 77 75 85]\n"
          ]
        }
      ]
    },
    {
      "cell_type": "code",
      "source": [
        "# Guardar el DataFrame limpio en un archivo CSV y XLSX\n",
        "df.to_csv('ASESINATOS_BD_LIMPIA.csv', index=False)  # Guardar como CSV\n",
        "df.to_excel('ASESINATOS_BD_LIMPIA.xlsx', index=False)  # Guardar como XLSX\n",
        "\n"
      ],
      "metadata": {
        "id": "mTmPv7a2InY8"
      },
      "id": "mTmPv7a2InY8",
      "execution_count": null,
      "outputs": []
    }
  ],
  "metadata": {
    "kernelspec": {
      "display_name": "Python 3",
      "name": "python3"
    },
    "language_info": {
      "codemirror_mode": {
        "name": "ipython",
        "version": 3
      },
      "file_extension": ".py",
      "mimetype": "text/x-python",
      "name": "python",
      "nbconvert_exporter": "python",
      "pygments_lexer": "ipython3",
      "version": "3.11.4"
    },
    "colab": {
      "provenance": []
    }
  },
  "nbformat": 4,
  "nbformat_minor": 5
}